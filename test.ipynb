{
 "cells": [
  {
   "cell_type": "code",
   "execution_count": 1,
   "id": "4bdad016-2b05-4d5b-9dfd-87cee958a57c",
   "metadata": {},
   "outputs": [],
   "source": [
    "from pycocotools.coco import COCO\n",
    "import json\n",
    "\n",
    "demo = r\"C:\\Users\\pljiao\\Downloads\\annotations_trainval2014\\annotations\\instances_val2014.json\"\n",
    "\n",
    "plume = r\"E:\\RS\\experiments\\L1_datasets_1000\\ann\\ann_rle_plume.json\"\n"
   ]
  },
  {
   "cell_type": "code",
   "execution_count": 2,
   "id": "cba78790-aa8b-45b4-b4dd-5ac669356af5",
   "metadata": {},
   "outputs": [],
   "source": [
    "with open(demo, \"r\", encoding=\"utf-8\") as f:\n",
    "    demo_json = json.load(f)"
   ]
  },
  {
   "cell_type": "code",
   "execution_count": 3,
   "id": "1c38875f-31c5-4525-b6e2-2ae47c35d2a8",
   "metadata": {},
   "outputs": [],
   "source": [
    "with open(plume, \"r\", encoding=\"utf-8\") as f:\n",
    "    plume_json = json.load(f)"
   ]
  },
  {
   "cell_type": "code",
   "execution_count": 52,
   "id": "c9fffe09-a8bd-4557-8f96-9fde91294ac5",
   "metadata": {},
   "outputs": [],
   "source": [
    "plume_coco = r\"E:\\RS\\experiments\\L1_datasets_1000\\ann\\plume_ann_coco.json\"\n",
    "with open(plume_coco, \"r\", encoding=\"utf-8\") as f:\n",
    "    plume_coco_json = json.load(f)"
   ]
  },
  {
   "cell_type": "code",
   "execution_count": 53,
   "id": "09713551-3578-419f-913a-6d5354d42634",
   "metadata": {},
   "outputs": [
    {
     "data": {
      "text/plain": [
       "dict_keys(['info', 'licenses', 'images', 'annotations', 'categories'])"
      ]
     },
     "execution_count": 53,
     "metadata": {},
     "output_type": "execute_result"
    }
   ],
   "source": [
    "plume_coco_json.keys()"
   ]
  },
  {
   "cell_type": "code",
   "execution_count": 54,
   "id": "be8bb81e-a02d-4765-8cf4-d1563ffb707c",
   "metadata": {},
   "outputs": [
    {
     "data": {
      "text/plain": [
       "[{'id': 0, 'name': 'methane plume', 'supercategory': 'plume'}]"
      ]
     },
     "execution_count": 54,
     "metadata": {},
     "output_type": "execute_result"
    }
   ],
   "source": [
    "plume_coco_json[\"info\"]\n",
    "plume_coco_json['categories']"
   ]
  },
  {
   "cell_type": "code",
   "execution_count": 55,
   "id": "a4e89d32-c3dc-421b-a4cb-7ed432349c4e",
   "metadata": {},
   "outputs": [
    {
     "name": "stdout",
     "output_type": "stream",
     "text": [
      "925\n",
      "{'id': 0, 'width': 512, 'height': 512, 'date_captured': '2024-12-01', 'channel': 48, 'plume_path': 'E:\\\\RS\\\\experiments\\\\L1_datasets_1000\\\\L1_with_plume_1000\\\\L1_with_plume_n100_E113.0_N40.2_20220715_rd51.mat', 'wind_path': 'E:\\\\RS\\\\experiments\\\\L1_datasets_1000\\\\L1_wind_1000\\\\L1_wind_n100_E113.0_N40.2_20220715_rd51.mat'}\n"
     ]
    }
   ],
   "source": [
    "print(len(plume_coco_json['images']))\n",
    "print(plume_coco_json['images'][0])"
   ]
  },
  {
   "cell_type": "code",
   "execution_count": 62,
   "id": "3dbe548e-31c2-4a89-bf67-f8091d62c9f8",
   "metadata": {},
   "outputs": [
    {
     "name": "stdout",
     "output_type": "stream",
     "text": [
      "40504\n",
      "{'license': 3, 'file_name': 'COCO_val2014_000000391895.jpg', 'coco_url': 'http://images.cocodataset.org/val2014/COCO_val2014_000000391895.jpg', 'height': 360, 'width': 640, 'date_captured': '2013-11-14 11:18:45', 'flickr_url': 'http://farm9.staticflickr.com/8186/8119368305_4e622c8349_z.jpg', 'id': 391895}\n"
     ]
    }
   ],
   "source": [
    "print(len(demo_json['images']))\n",
    "print(demo_json['images'][0])"
   ]
  },
  {
   "cell_type": "code",
   "execution_count": 80,
   "id": "f5d9d16d-a9ce-4e95-9d14-addab9afe4c2",
   "metadata": {},
   "outputs": [
    {
     "name": "stdout",
     "output_type": "stream",
     "text": [
      "[0, 13934, 1, 3, 0, 508, 1, 5, 0, 507, 1, 5, 0, 506, 1, 6, 0, 506, 1, 6, 0, 505, 1, 8, 0, 502, 1, 9, 0, 502, 1, 10, 0, 504, 1, 1, 0, 1, 1, 7, 0, 504, 1, 9, 0, 503, 1, 11, 0, 499, 1, 13, 0, 499, 1, 12, 0, 500, 1, 12, 0, 499, 1, 14, 0, 497, 1, 15, 0, 496, 1, 16, 0, 496, 1, 12, 0, 500, 1, 13, 0, 499, 1, 13, 0, 499, 1, 14, 0, 498, 1, 1, 0, 1, 1, 12, 0, 501, 1, 13, 0, 496, 1, 2, 0, 1, 1, 13, 0, 496, 1, 14, 0, 498, 1, 14, 0, 495, 1, 1, 0, 2, 1, 15, 0, 495, 1, 17, 0, 496, 1, 16, 0, 1, 1, 1, 0, 494, 1, 17, 0, 494, 1, 18, 0, 493, 1, 19, 0, 493, 1, 21, 0, 492, 1, 22, 0, 490, 1, 19, 0, 493, 1, 19, 0, 493, 1, 20, 0, 493, 1, 22, 0, 491, 1, 21, 0, 491, 1, 20, 0, 490, 1, 1, 0, 1, 1, 16, 0, 1, 1, 1, 0, 1, 1, 1, 0, 488, 1, 15, 0, 1, 1, 3, 0, 493, 1, 18, 0, 492, 1, 20, 0, 493, 1, 18, 0, 495, 1, 16, 0, 496, 1, 15, 0, 497, 1, 15, 0, 498, 1, 3, 0, 3, 1, 9, 0, 503, 1, 10, 0, 502, 1, 9, 0, 503, 1, 9, 0, 506, 1, 3, 0, 2, 1, 2, 0, 505, 1, 2, 0, 3, 1, 2, 0, 505, 1, 2, 0, 220562]\n"
     ]
    },
    {
     "ename": "ValueError",
     "evalue": "Buffer has wrong number of dimensions (expected 1, got 2)",
     "output_type": "error",
     "traceback": [
      "\u001b[1;31m---------------------------------------------------------------------------\u001b[0m",
      "\u001b[1;31mValueError\u001b[0m                                Traceback (most recent call last)",
      "Cell \u001b[1;32mIn[80], line 11\u001b[0m\n\u001b[0;32m      8\u001b[0m test2\u001b[38;5;241m=\u001b[39m[[\u001b[38;5;241m247.71\u001b[39m, \u001b[38;5;241m354.7\u001b[39m, \u001b[38;5;241m253.49\u001b[39m, \u001b[38;5;241m346.99\u001b[39m, \u001b[38;5;241m276.63\u001b[39m, \u001b[38;5;241m337.35\u001b[39m, \u001b[38;5;241m312.29\u001b[39m, \u001b[38;5;241m333.49\u001b[39m, \u001b[38;5;241m364.34\u001b[39m, \u001b[38;5;241m331.57\u001b[39m, \u001b[38;5;241m354.7\u001b[39m, \u001b[38;5;241m327.71\u001b[39m, \u001b[38;5;241m369.16\u001b[39m, \u001b[38;5;241m325.78\u001b[39m, \u001b[38;5;241m376.87\u001b[39m, \u001b[38;5;241m333.49\u001b[39m, \u001b[38;5;241m383.61\u001b[39m, \u001b[38;5;241m330.6\u001b[39m, \u001b[38;5;241m379.76\u001b[39m, \u001b[38;5;241m321.93\u001b[39m, \u001b[38;5;241m365.3\u001b[39m, \u001b[38;5;241m320.0\u001b[39m, \u001b[38;5;241m356.63\u001b[39m, \u001b[38;5;241m317.11\u001b[39m, \u001b[38;5;241m266.02\u001b[39m, \u001b[38;5;241m331.57\u001b[39m, \u001b[38;5;241m260.24\u001b[39m, \u001b[38;5;241m334.46\u001b[39m, \u001b[38;5;241m260.24\u001b[39m, \u001b[38;5;241m337.35\u001b[39m, \u001b[38;5;241m242.89\u001b[39m, \u001b[38;5;241m338.31\u001b[39m, \u001b[38;5;241m234.22\u001b[39m, \u001b[38;5;241m338.31\u001b[39m, \u001b[38;5;241m234.22\u001b[39m, \u001b[38;5;241m348.92\u001b[39m, \u001b[38;5;241m239.04\u001b[39m, \u001b[38;5;241m353.73\u001b[39m, \u001b[38;5;241m248.67\u001b[39m, \u001b[38;5;241m355.66\u001b[39m, \u001b[38;5;241m252.53\u001b[39m, \u001b[38;5;241m353.73\u001b[39m]]\n\u001b[0;32m      9\u001b[0m test1 \u001b[38;5;241m=\u001b[39m {\u001b[38;5;124m'\u001b[39m\u001b[38;5;124msize\u001b[39m\u001b[38;5;124m'\u001b[39m: [\u001b[38;5;241m512\u001b[39m, \u001b[38;5;241m512\u001b[39m], \u001b[38;5;124m'\u001b[39m\u001b[38;5;124mcounts\u001b[39m\u001b[38;5;124m'\u001b[39m: [c\u001b[38;5;241m.\u001b[39mtolist()]}\n\u001b[1;32m---> 11\u001b[0m rle1 \u001b[38;5;241m=\u001b[39m \u001b[43mmaskUtils\u001b[49m\u001b[38;5;241;43m.\u001b[39;49m\u001b[43mfrPyObjects\u001b[49m\u001b[43m(\u001b[49m\u001b[43mtest1\u001b[49m\u001b[43m,\u001b[49m\u001b[43m \u001b[49m\u001b[38;5;241;43m512\u001b[39;49m\u001b[43m,\u001b[49m\u001b[38;5;241;43m512\u001b[39;49m\u001b[43m)\u001b[49m\n\u001b[0;32m     12\u001b[0m maskUtils\u001b[38;5;241m.\u001b[39mdecode(rle1)\n",
      "File \u001b[1;32mpycocotools\\\\_mask.pyx:307\u001b[0m, in \u001b[0;36mpycocotools._mask.frPyObjects\u001b[1;34m()\u001b[0m\n",
      "File \u001b[1;32mpycocotools\\\\_mask.pyx:280\u001b[0m, in \u001b[0;36mpycocotools._mask.frUncompressedRLE\u001b[1;34m()\u001b[0m\n",
      "\u001b[1;31mValueError\u001b[0m: Buffer has wrong number of dimensions (expected 1, got 2)"
     ]
    }
   ],
   "source": [
    "import pycocotools.mask as maskUtils\n",
    "import numpy as np\n",
    "\n",
    "a = [[0, 13934], [1, 3], [0, 508], [1, 5], [0, 507], [1, 5], [0, 506], [1, 6], [0, 506], [1, 6], [0, 505], [1, 8], [0, 502], [1, 9], [0, 502], [1, 10], [0, 504], [1, 1], [0, 1], [1, 7], [0, 504], [1, 9], [0, 503], [1, 11], [0, 499], [1, 13], [0, 499], [1, 12], [0, 500], [1, 12], [0, 499], [1, 14], [0, 497], [1, 15], [0, 496], [1, 16], [0, 496], [1, 12], [0, 500], [1, 13], [0, 499], [1, 13], [0, 499], [1, 14], [0, 498], [1, 1], [0, 1], [1, 12], [0, 501], [1, 13], [0, 496], [1, 2], [0, 1], [1, 13], [0, 496], [1, 14], [0, 498], [1, 14], [0, 495], [1, 1], [0, 2], [1, 15], [0, 495], [1, 17], [0, 496], [1, 16], [0, 1], [1, 1], [0, 494], [1, 17], [0, 494], [1, 18], [0, 493], [1, 19], [0, 493], [1, 21], [0, 492], [1, 22], [0, 490], [1, 19], [0, 493], [1, 19], [0, 493], [1, 20], [0, 493], [1, 22], [0, 491], [1, 21], [0, 491], [1, 20], [0, 490], [1, 1], [0, 1], [1, 16], [0, 1], [1, 1], [0, 1], [1, 1], [0, 488], [1, 15], [0, 1], [1, 3], [0, 493], [1, 18], [0, 492], [1, 20], [0, 493], [1, 18], [0, 495], [1, 16], [0, 496], [1, 15], [0, 497], [1, 15], [0, 498], [1, 3], [0, 3], [1, 9], [0, 503], [1, 10], [0, 502], [1, 9], [0, 503], [1, 9], [0, 506], [1, 3], [0, 2], [1, 2], [0, 505], [1, 2], [0, 3], [1, 2], [0, 505], [1, 2], [0, 220562]]\n",
    "b = np.array(a)\n",
    "c=b.flatten()\n",
    "print(c.tolist())\n",
    "test2=[[247.71, 354.7, 253.49, 346.99, 276.63, 337.35, 312.29, 333.49, 364.34, 331.57, 354.7, 327.71, 369.16, 325.78, 376.87, 333.49, 383.61, 330.6, 379.76, 321.93, 365.3, 320.0, 356.63, 317.11, 266.02, 331.57, 260.24, 334.46, 260.24, 337.35, 242.89, 338.31, 234.22, 338.31, 234.22, 348.92, 239.04, 353.73, 248.67, 355.66, 252.53, 353.73]]\n",
    "test1 = {'size': [512, 512], 'counts': [c.tolist()]}\n",
    "\n",
    "rle1 = maskUtils.frPyObjects(test1, 512,512)\n",
    "maskUtils.decode(rle1)\n"
   ]
  },
  {
   "cell_type": "code",
   "execution_count": 68,
   "id": "eb3b5b6d-b688-4270-b082-863ffce49240",
   "metadata": {},
   "outputs": [
    {
     "name": "stdout",
     "output_type": "stream",
     "text": [
      "loading annotations into memory...\n",
      "Done (t=2.01s)\n",
      "creating index...\n",
      "index created!\n"
     ]
    }
   ],
   "source": [
    "plume_cls = COCO(annotation_file=plume_coco)"
   ]
  },
  {
   "cell_type": "code",
   "execution_count": 58,
   "id": "51f648db-ea92-4e10-9290-eb9c7f9b0f66",
   "metadata": {},
   "outputs": [
    {
     "data": {
      "text/plain": [
       "925"
      ]
     },
     "execution_count": 58,
     "metadata": {},
     "output_type": "execute_result"
    }
   ],
   "source": [
    "len(plume_cls.imgs)"
   ]
  },
  {
   "cell_type": "code",
   "execution_count": 81,
   "id": "628cb0d0-8f73-4d17-9e11-9c6025a19784",
   "metadata": {},
   "outputs": [
    {
     "data": {
      "text/plain": [
       "{'id': 0,\n",
       " 'image_id': 0,\n",
       " 'category_id': 0,\n",
       " 'bbox': [222, 237, 273, 262],\n",
       " 'segmentation': {'size': [512, 512],\n",
       "  'counts': [[0, 121087],\n",
       "   [1, 4],\n",
       "   [0, 507],\n",
       "   [1, 5],\n",
       "   [0, 2],\n",
       "   [1, 3],\n",
       "   [0, 489],\n",
       "   [1, 3],\n",
       "   [0, 2],\n",
       "   [1, 2],\n",
       "   [0, 6],\n",
       "   [1, 5],\n",
       "   [0, 1],\n",
       "   [1, 6],\n",
       "   [0, 485],\n",
       "   [1, 6],\n",
       "   [0, 4],\n",
       "   [1, 16],\n",
       "   [0, 486],\n",
       "   [1, 6],\n",
       "   [0, 2],\n",
       "   [1, 6],\n",
       "   [0, 1],\n",
       "   [1, 11],\n",
       "   [0, 487],\n",
       "   [1, 13],\n",
       "   [0, 1],\n",
       "   [1, 13],\n",
       "   [0, 482],\n",
       "   [1, 30],\n",
       "   [0, 482],\n",
       "   [1, 30],\n",
       "   [0, 3],\n",
       "   [1, 1],\n",
       "   [0, 472],\n",
       "   [1, 2],\n",
       "   [0, 4],\n",
       "   [1, 31],\n",
       "   [0, 5],\n",
       "   [1, 1],\n",
       "   [0, 463],\n",
       "   [1, 5],\n",
       "   [0, 3],\n",
       "   [1, 1],\n",
       "   [0, 3],\n",
       "   [1, 32],\n",
       "   [0, 4],\n",
       "   [1, 1],\n",
       "   [0, 463],\n",
       "   [1, 6],\n",
       "   [0, 1],\n",
       "   [1, 38],\n",
       "   [0, 466],\n",
       "   [1, 47],\n",
       "   [0, 465],\n",
       "   [1, 41],\n",
       "   [0, 2],\n",
       "   [1, 4],\n",
       "   [0, 465],\n",
       "   [1, 41],\n",
       "   [0, 3],\n",
       "   [1, 2],\n",
       "   [0, 467],\n",
       "   [1, 6],\n",
       "   [0, 1],\n",
       "   [1, 35],\n",
       "   [0, 1],\n",
       "   [1, 2],\n",
       "   [0, 467],\n",
       "   [1, 6],\n",
       "   [0, 2],\n",
       "   [1, 5],\n",
       "   [0, 1],\n",
       "   [1, 28],\n",
       "   [0, 471],\n",
       "   [1, 10],\n",
       "   [0, 4],\n",
       "   [1, 4],\n",
       "   [0, 1],\n",
       "   [1, 22],\n",
       "   [0, 466],\n",
       "   [1, 3],\n",
       "   [0, 3],\n",
       "   [1, 6],\n",
       "   [0, 2],\n",
       "   [1, 1],\n",
       "   [0, 1],\n",
       "   [1, 2],\n",
       "   [0, 2],\n",
       "   [1, 2],\n",
       "   [0, 4],\n",
       "   [1, 20],\n",
       "   [0, 466],\n",
       "   [1, 3],\n",
       "   [0, 4],\n",
       "   [1, 4],\n",
       "   [0, 15],\n",
       "   [1, 20],\n",
       "   [0, 2],\n",
       "   [1, 2],\n",
       "   [0, 463],\n",
       "   [1, 1],\n",
       "   [0, 6],\n",
       "   [1, 2],\n",
       "   [0, 15],\n",
       "   [1, 7],\n",
       "   [0, 1],\n",
       "   [1, 11],\n",
       "   [0, 5],\n",
       "   [1, 1],\n",
       "   [0, 487],\n",
       "   [1, 2],\n",
       "   [0, 2],\n",
       "   [1, 3],\n",
       "   [0, 2],\n",
       "   [1, 10],\n",
       "   [0, 498],\n",
       "   [1, 1],\n",
       "   [0, 3],\n",
       "   [1, 10],\n",
       "   [0, 505],\n",
       "   [1, 8],\n",
       "   [0, 509],\n",
       "   [1, 4],\n",
       "   [0, 496],\n",
       "   [1, 1],\n",
       "   [0, 12],\n",
       "   [1, 2],\n",
       "   [0, 128758]]},\n",
       " 'area': 1275,\n",
       " 'iscrowd': 0,\n",
       " 'emission': 7691.227}"
      ]
     },
     "execution_count": 81,
     "metadata": {},
     "output_type": "execute_result"
    }
   ],
   "source": [
    "plume_cls.dataset['annotations'][0]"
   ]
  },
  {
   "cell_type": "code",
   "execution_count": 60,
   "id": "6a5781fb-bff1-4984-8bb9-a2910869a9f3",
   "metadata": {},
   "outputs": [
    {
     "data": {
      "text/plain": [
       "2071"
      ]
     },
     "execution_count": 60,
     "metadata": {},
     "output_type": "execute_result"
    }
   ],
   "source": [
    "len(plume_cls.anns)"
   ]
  },
  {
   "cell_type": "code",
   "execution_count": 61,
   "id": "fcd98988-28ce-429a-b715-2d73c7a2dbc6",
   "metadata": {},
   "outputs": [
    {
     "data": {
      "text/plain": [
       "[{'supercategory': 'person', 'id': 1, 'name': 'person'},\n",
       " {'supercategory': 'vehicle', 'id': 2, 'name': 'bicycle'},\n",
       " {'supercategory': 'vehicle', 'id': 3, 'name': 'car'},\n",
       " {'supercategory': 'vehicle', 'id': 4, 'name': 'motorcycle'},\n",
       " {'supercategory': 'vehicle', 'id': 5, 'name': 'airplane'},\n",
       " {'supercategory': 'vehicle', 'id': 6, 'name': 'bus'},\n",
       " {'supercategory': 'vehicle', 'id': 7, 'name': 'train'},\n",
       " {'supercategory': 'vehicle', 'id': 8, 'name': 'truck'},\n",
       " {'supercategory': 'vehicle', 'id': 9, 'name': 'boat'},\n",
       " {'supercategory': 'outdoor', 'id': 10, 'name': 'traffic light'},\n",
       " {'supercategory': 'outdoor', 'id': 11, 'name': 'fire hydrant'},\n",
       " {'supercategory': 'outdoor', 'id': 13, 'name': 'stop sign'},\n",
       " {'supercategory': 'outdoor', 'id': 14, 'name': 'parking meter'},\n",
       " {'supercategory': 'outdoor', 'id': 15, 'name': 'bench'},\n",
       " {'supercategory': 'animal', 'id': 16, 'name': 'bird'},\n",
       " {'supercategory': 'animal', 'id': 17, 'name': 'cat'},\n",
       " {'supercategory': 'animal', 'id': 18, 'name': 'dog'},\n",
       " {'supercategory': 'animal', 'id': 19, 'name': 'horse'},\n",
       " {'supercategory': 'animal', 'id': 20, 'name': 'sheep'},\n",
       " {'supercategory': 'animal', 'id': 21, 'name': 'cow'},\n",
       " {'supercategory': 'animal', 'id': 22, 'name': 'elephant'},\n",
       " {'supercategory': 'animal', 'id': 23, 'name': 'bear'},\n",
       " {'supercategory': 'animal', 'id': 24, 'name': 'zebra'},\n",
       " {'supercategory': 'animal', 'id': 25, 'name': 'giraffe'},\n",
       " {'supercategory': 'accessory', 'id': 27, 'name': 'backpack'},\n",
       " {'supercategory': 'accessory', 'id': 28, 'name': 'umbrella'},\n",
       " {'supercategory': 'accessory', 'id': 31, 'name': 'handbag'},\n",
       " {'supercategory': 'accessory', 'id': 32, 'name': 'tie'},\n",
       " {'supercategory': 'accessory', 'id': 33, 'name': 'suitcase'},\n",
       " {'supercategory': 'sports', 'id': 34, 'name': 'frisbee'},\n",
       " {'supercategory': 'sports', 'id': 35, 'name': 'skis'},\n",
       " {'supercategory': 'sports', 'id': 36, 'name': 'snowboard'},\n",
       " {'supercategory': 'sports', 'id': 37, 'name': 'sports ball'},\n",
       " {'supercategory': 'sports', 'id': 38, 'name': 'kite'},\n",
       " {'supercategory': 'sports', 'id': 39, 'name': 'baseball bat'},\n",
       " {'supercategory': 'sports', 'id': 40, 'name': 'baseball glove'},\n",
       " {'supercategory': 'sports', 'id': 41, 'name': 'skateboard'},\n",
       " {'supercategory': 'sports', 'id': 42, 'name': 'surfboard'},\n",
       " {'supercategory': 'sports', 'id': 43, 'name': 'tennis racket'},\n",
       " {'supercategory': 'kitchen', 'id': 44, 'name': 'bottle'},\n",
       " {'supercategory': 'kitchen', 'id': 46, 'name': 'wine glass'},\n",
       " {'supercategory': 'kitchen', 'id': 47, 'name': 'cup'},\n",
       " {'supercategory': 'kitchen', 'id': 48, 'name': 'fork'},\n",
       " {'supercategory': 'kitchen', 'id': 49, 'name': 'knife'},\n",
       " {'supercategory': 'kitchen', 'id': 50, 'name': 'spoon'},\n",
       " {'supercategory': 'kitchen', 'id': 51, 'name': 'bowl'},\n",
       " {'supercategory': 'food', 'id': 52, 'name': 'banana'},\n",
       " {'supercategory': 'food', 'id': 53, 'name': 'apple'},\n",
       " {'supercategory': 'food', 'id': 54, 'name': 'sandwich'},\n",
       " {'supercategory': 'food', 'id': 55, 'name': 'orange'},\n",
       " {'supercategory': 'food', 'id': 56, 'name': 'broccoli'},\n",
       " {'supercategory': 'food', 'id': 57, 'name': 'carrot'},\n",
       " {'supercategory': 'food', 'id': 58, 'name': 'hot dog'},\n",
       " {'supercategory': 'food', 'id': 59, 'name': 'pizza'},\n",
       " {'supercategory': 'food', 'id': 60, 'name': 'donut'},\n",
       " {'supercategory': 'food', 'id': 61, 'name': 'cake'},\n",
       " {'supercategory': 'furniture', 'id': 62, 'name': 'chair'},\n",
       " {'supercategory': 'furniture', 'id': 63, 'name': 'couch'},\n",
       " {'supercategory': 'furniture', 'id': 64, 'name': 'potted plant'},\n",
       " {'supercategory': 'furniture', 'id': 65, 'name': 'bed'},\n",
       " {'supercategory': 'furniture', 'id': 67, 'name': 'dining table'},\n",
       " {'supercategory': 'furniture', 'id': 70, 'name': 'toilet'},\n",
       " {'supercategory': 'electronic', 'id': 72, 'name': 'tv'},\n",
       " {'supercategory': 'electronic', 'id': 73, 'name': 'laptop'},\n",
       " {'supercategory': 'electronic', 'id': 74, 'name': 'mouse'},\n",
       " {'supercategory': 'electronic', 'id': 75, 'name': 'remote'},\n",
       " {'supercategory': 'electronic', 'id': 76, 'name': 'keyboard'},\n",
       " {'supercategory': 'electronic', 'id': 77, 'name': 'cell phone'},\n",
       " {'supercategory': 'appliance', 'id': 78, 'name': 'microwave'},\n",
       " {'supercategory': 'appliance', 'id': 79, 'name': 'oven'},\n",
       " {'supercategory': 'appliance', 'id': 80, 'name': 'toaster'},\n",
       " {'supercategory': 'appliance', 'id': 81, 'name': 'sink'},\n",
       " {'supercategory': 'appliance', 'id': 82, 'name': 'refrigerator'},\n",
       " {'supercategory': 'indoor', 'id': 84, 'name': 'book'},\n",
       " {'supercategory': 'indoor', 'id': 85, 'name': 'clock'},\n",
       " {'supercategory': 'indoor', 'id': 86, 'name': 'vase'},\n",
       " {'supercategory': 'indoor', 'id': 87, 'name': 'scissors'},\n",
       " {'supercategory': 'indoor', 'id': 88, 'name': 'teddy bear'},\n",
       " {'supercategory': 'indoor', 'id': 89, 'name': 'hair drier'},\n",
       " {'supercategory': 'indoor', 'id': 90, 'name': 'toothbrush'}]"
      ]
     },
     "execution_count": 61,
     "metadata": {},
     "output_type": "execute_result"
    }
   ],
   "source": [
    "demo_json[\"categories\"]"
   ]
  },
  {
   "cell_type": "code",
   "execution_count": 10,
   "id": "36a31eee-f179-4919-b5df-3bb718a12520",
   "metadata": {},
   "outputs": [
    {
     "name": "stdout",
     "output_type": "stream",
     "text": [
      "40504\n",
      "{'license': 3, 'file_name': 'COCO_val2014_000000391895.jpg', 'coco_url': 'http://images.cocodataset.org/val2014/COCO_val2014_000000391895.jpg', 'height': 360, 'width': 640, 'date_captured': '2013-11-14 11:18:45', 'flickr_url': 'http://farm9.staticflickr.com/8186/8119368305_4e622c8349_z.jpg', 'id': 391895}\n"
     ]
    }
   ],
   "source": [
    "type(demo_json['images'])\n",
    "print(len(demo_json['images']))\n",
    "print(demo_json['images'][0])"
   ]
  },
  {
   "cell_type": "code",
   "execution_count": 12,
   "id": "d3fd3cca-bc5b-4801-bba4-9cfb762984eb",
   "metadata": {},
   "outputs": [
    {
     "name": "stdout",
     "output_type": "stream",
     "text": [
      "<class 'list'>\n",
      "291875\n",
      "{'segmentation': [[239.97, 260.24, 222.04, 270.49, 199.84, 253.41, 213.5, 227.79, 259.62, 200.46, 274.13, 202.17, 277.55, 210.71, 249.37, 253.41, 237.41, 264.51, 242.54, 261.95, 228.87, 271.34]], 'area': 2765.1486500000005, 'iscrowd': 0, 'image_id': 558840, 'bbox': [199.84, 200.46, 77.71, 70.88], 'category_id': 58, 'id': 156}\n"
     ]
    }
   ],
   "source": [
    "print(type(demo_json['annotations']))\n",
    "print(len(demo_json['annotations']))\n",
    "print(demo_json['annotations'][0])"
   ]
  },
  {
   "cell_type": "code",
   "execution_count": 13,
   "id": "5a8f5190-492f-4753-a6a5-a035ffa211d4",
   "metadata": {},
   "outputs": [
    {
     "name": "stdout",
     "output_type": "stream",
     "text": [
      "{'segmentation': [[247.71, 354.7, 253.49, 346.99, 276.63, 337.35, 312.29, 333.49, 364.34, 331.57, 354.7, 327.71, 369.16, 325.78, 376.87, 333.49, 383.61, 330.6, 379.76, 321.93, 365.3, 320.0, 356.63, 317.11, 266.02, 331.57, 260.24, 334.46, 260.24, 337.35, 242.89, 338.31, 234.22, 338.31, 234.22, 348.92, 239.04, 353.73, 248.67, 355.66, 252.53, 353.73]], 'area': 1545.4213000000007, 'iscrowd': 0, 'image_id': 200365, 'bbox': [234.22, 317.11, 149.39, 38.55], 'category_id': 58, 'id': 509}\n"
     ]
    }
   ],
   "source": [
    "print(demo_json['annotations'][1])"
   ]
  },
  {
   "cell_type": "code",
   "execution_count": 64,
   "id": "b8228b46-52cd-4703-8608-1ca377c9d9bf",
   "metadata": {},
   "outputs": [
    {
     "name": "stdout",
     "output_type": "stream",
     "text": [
      "{'id': 1, 'image_id': 1, 'category_id': 0, 'bbox': [97, 28, 124, 83], 'segmentation': {'size': [512, 512], 'counts': [[0, 13934], [1, 3], [0, 508], [1, 5], [0, 507], [1, 5], [0, 506], [1, 6], [0, 506], [1, 6], [0, 505], [1, 8], [0, 502], [1, 9], [0, 502], [1, 10], [0, 504], [1, 1], [0, 1], [1, 7], [0, 504], [1, 9], [0, 503], [1, 11], [0, 499], [1, 13], [0, 499], [1, 12], [0, 500], [1, 12], [0, 499], [1, 14], [0, 497], [1, 15], [0, 496], [1, 16], [0, 496], [1, 12], [0, 500], [1, 13], [0, 499], [1, 13], [0, 499], [1, 14], [0, 498], [1, 1], [0, 1], [1, 12], [0, 501], [1, 13], [0, 496], [1, 2], [0, 1], [1, 13], [0, 496], [1, 14], [0, 498], [1, 14], [0, 495], [1, 1], [0, 2], [1, 15], [0, 495], [1, 17], [0, 496], [1, 16], [0, 1], [1, 1], [0, 494], [1, 17], [0, 494], [1, 18], [0, 493], [1, 19], [0, 493], [1, 21], [0, 492], [1, 22], [0, 490], [1, 19], [0, 493], [1, 19], [0, 493], [1, 20], [0, 493], [1, 22], [0, 491], [1, 21], [0, 491], [1, 20], [0, 490], [1, 1], [0, 1], [1, 16], [0, 1], [1, 1], [0, 1], [1, 1], [0, 488], [1, 15], [0, 1], [1, 3], [0, 493], [1, 18], [0, 492], [1, 20], [0, 493], [1, 18], [0, 495], [1, 16], [0, 496], [1, 15], [0, 497], [1, 15], [0, 498], [1, 3], [0, 3], [1, 9], [0, 503], [1, 10], [0, 502], [1, 9], [0, 503], [1, 9], [0, 506], [1, 3], [0, 2], [1, 2], [0, 505], [1, 2], [0, 3], [1, 2], [0, 505], [1, 2], [0, 220562]]}, 'area': 1485, 'iscrowd': 0, 'emission': 3880.786}\n"
     ]
    }
   ],
   "source": [
    "print(plume_coco_json['annotations'][1])"
   ]
  },
  {
   "cell_type": "code",
   "execution_count": 15,
   "id": "55909861-729b-4104-bab7-646cc5b85b55",
   "metadata": {},
   "outputs": [
    {
     "data": {
      "text/plain": [
       "{'plume_path': 'E:\\\\RS\\\\experiments\\\\L1_datasets_1000\\\\L1_with_plume_1000\\\\L1_with_plume_n101_E110.3_N35.3_20220805_rd29.mat',\n",
       " 'wind_path': 'E:\\\\RS\\\\experiments\\\\L1_datasets_1000\\\\L1_wind_1000\\\\L1_wind_n101_E110.3_N35.3_20220805_rd29.mat',\n",
       " 'img_id': '05vJxjD5',\n",
       " 'height': 512,\n",
       " 'width': 512,\n",
       " 'channel': 48,\n",
       " 'instances': [{'bbox': [97, 28, 27, 55],\n",
       "   'ignore_flag': False,\n",
       "   'bbox_label': 0,\n",
       "   'mask': {'size': [512, 512],\n",
       "    'counts': [[0, 13934],\n",
       "     [1, 3],\n",
       "     [0, 508],\n",
       "     [1, 5],\n",
       "     [0, 507],\n",
       "     [1, 5],\n",
       "     [0, 506],\n",
       "     [1, 6],\n",
       "     [0, 506],\n",
       "     [1, 6],\n",
       "     [0, 505],\n",
       "     [1, 8],\n",
       "     [0, 502],\n",
       "     [1, 9],\n",
       "     [0, 502],\n",
       "     [1, 10],\n",
       "     [0, 504],\n",
       "     [1, 1],\n",
       "     [0, 1],\n",
       "     [1, 7],\n",
       "     [0, 504],\n",
       "     [1, 9],\n",
       "     [0, 503],\n",
       "     [1, 11],\n",
       "     [0, 499],\n",
       "     [1, 13],\n",
       "     [0, 499],\n",
       "     [1, 12],\n",
       "     [0, 500],\n",
       "     [1, 12],\n",
       "     [0, 499],\n",
       "     [1, 14],\n",
       "     [0, 497],\n",
       "     [1, 15],\n",
       "     [0, 496],\n",
       "     [1, 16],\n",
       "     [0, 496],\n",
       "     [1, 12],\n",
       "     [0, 500],\n",
       "     [1, 13],\n",
       "     [0, 499],\n",
       "     [1, 13],\n",
       "     [0, 499],\n",
       "     [1, 14],\n",
       "     [0, 498],\n",
       "     [1, 1],\n",
       "     [0, 1],\n",
       "     [1, 12],\n",
       "     [0, 501],\n",
       "     [1, 13],\n",
       "     [0, 496],\n",
       "     [1, 2],\n",
       "     [0, 1],\n",
       "     [1, 13],\n",
       "     [0, 496],\n",
       "     [1, 14],\n",
       "     [0, 498],\n",
       "     [1, 14],\n",
       "     [0, 495],\n",
       "     [1, 1],\n",
       "     [0, 2],\n",
       "     [1, 15],\n",
       "     [0, 495],\n",
       "     [1, 17],\n",
       "     [0, 496],\n",
       "     [1, 16],\n",
       "     [0, 1],\n",
       "     [1, 1],\n",
       "     [0, 494],\n",
       "     [1, 17],\n",
       "     [0, 494],\n",
       "     [1, 18],\n",
       "     [0, 493],\n",
       "     [1, 19],\n",
       "     [0, 493],\n",
       "     [1, 21],\n",
       "     [0, 492],\n",
       "     [1, 22],\n",
       "     [0, 490],\n",
       "     [1, 19],\n",
       "     [0, 493],\n",
       "     [1, 19],\n",
       "     [0, 493],\n",
       "     [1, 20],\n",
       "     [0, 493],\n",
       "     [1, 22],\n",
       "     [0, 491],\n",
       "     [1, 21],\n",
       "     [0, 491],\n",
       "     [1, 20],\n",
       "     [0, 490],\n",
       "     [1, 1],\n",
       "     [0, 1],\n",
       "     [1, 16],\n",
       "     [0, 1],\n",
       "     [1, 1],\n",
       "     [0, 1],\n",
       "     [1, 1],\n",
       "     [0, 488],\n",
       "     [1, 15],\n",
       "     [0, 1],\n",
       "     [1, 3],\n",
       "     [0, 493],\n",
       "     [1, 18],\n",
       "     [0, 492],\n",
       "     [1, 20],\n",
       "     [0, 493],\n",
       "     [1, 18],\n",
       "     [0, 495],\n",
       "     [1, 16],\n",
       "     [0, 496],\n",
       "     [1, 15],\n",
       "     [0, 497],\n",
       "     [1, 15],\n",
       "     [0, 498],\n",
       "     [1, 3],\n",
       "     [0, 3],\n",
       "     [1, 9],\n",
       "     [0, 503],\n",
       "     [1, 10],\n",
       "     [0, 502],\n",
       "     [1, 9],\n",
       "     [0, 503],\n",
       "     [1, 9],\n",
       "     [0, 506],\n",
       "     [1, 3],\n",
       "     [0, 2],\n",
       "     [1, 2],\n",
       "     [0, 505],\n",
       "     [1, 2],\n",
       "     [0, 3],\n",
       "     [1, 2],\n",
       "     [0, 505],\n",
       "     [1, 2],\n",
       "     [0, 220562]]},\n",
       "   'emission': 3880.786,\n",
       "   'id': 1}]}"
      ]
     },
     "execution_count": 15,
     "metadata": {},
     "output_type": "execute_result"
    }
   ],
   "source": [
    "plume_json[\"1\"]"
   ]
  },
  {
   "cell_type": "code",
   "execution_count": 19,
   "id": "d6e75fa8-f45f-4d8e-b906-4299f1b50d27",
   "metadata": {},
   "outputs": [
    {
     "data": {
      "text/plain": [
       "[247.71,\n",
       " 354.7,\n",
       " 253.49,\n",
       " 346.99,\n",
       " 276.63,\n",
       " 337.35,\n",
       " 312.29,\n",
       " 333.49,\n",
       " 364.34,\n",
       " 331.57,\n",
       " 354.7,\n",
       " 327.71,\n",
       " 369.16,\n",
       " 325.78,\n",
       " 376.87,\n",
       " 333.49,\n",
       " 383.61,\n",
       " 330.6,\n",
       " 379.76,\n",
       " 321.93,\n",
       " 365.3,\n",
       " 320.0,\n",
       " 356.63,\n",
       " 317.11,\n",
       " 266.02,\n",
       " 331.57,\n",
       " 260.24,\n",
       " 334.46,\n",
       " 260.24,\n",
       " 337.35,\n",
       " 242.89,\n",
       " 338.31,\n",
       " 234.22,\n",
       " 338.31,\n",
       " 234.22,\n",
       " 348.92,\n",
       " 239.04,\n",
       " 353.73,\n",
       " 248.67,\n",
       " 355.66,\n",
       " 252.53,\n",
       " 353.73]"
      ]
     },
     "execution_count": 19,
     "metadata": {},
     "output_type": "execute_result"
    }
   ],
   "source": [
    "demo_json['annotations'][1]['segmentation'][0]"
   ]
  },
  {
   "cell_type": "code",
   "execution_count": 20,
   "id": "fcb0ca50-f2f8-4de7-bf22-f046f28b0508",
   "metadata": {},
   "outputs": [],
   "source": [
    "import numpy as np"
   ]
  },
  {
   "cell_type": "code",
   "execution_count": 51,
   "id": "c2912032-d4b3-4683-a93f-1e5cd6b0f7f7",
   "metadata": {},
   "outputs": [
    {
     "data": {
      "text/plain": [
       "{'segmentation': [[247.71,\n",
       "   354.7,\n",
       "   253.49,\n",
       "   346.99,\n",
       "   276.63,\n",
       "   337.35,\n",
       "   312.29,\n",
       "   333.49,\n",
       "   364.34,\n",
       "   331.57,\n",
       "   354.7,\n",
       "   327.71,\n",
       "   369.16,\n",
       "   325.78,\n",
       "   376.87,\n",
       "   333.49,\n",
       "   383.61,\n",
       "   330.6,\n",
       "   379.76,\n",
       "   321.93,\n",
       "   365.3,\n",
       "   320.0,\n",
       "   356.63,\n",
       "   317.11,\n",
       "   266.02,\n",
       "   331.57,\n",
       "   260.24,\n",
       "   334.46,\n",
       "   260.24,\n",
       "   337.35,\n",
       "   242.89,\n",
       "   338.31,\n",
       "   234.22,\n",
       "   338.31,\n",
       "   234.22,\n",
       "   348.92,\n",
       "   239.04,\n",
       "   353.73,\n",
       "   248.67,\n",
       "   355.66,\n",
       "   252.53,\n",
       "   353.73]],\n",
       " 'area': 1545.4213000000007,\n",
       " 'iscrowd': 0,\n",
       " 'image_id': 200365,\n",
       " 'bbox': [234.22, 317.11, 149.39, 38.55],\n",
       " 'category_id': 58,\n",
       " 'id': 509}"
      ]
     },
     "execution_count": 51,
     "metadata": {},
     "output_type": "execute_result"
    }
   ],
   "source": [
    "demo_json['annotations'][1]"
   ]
  },
  {
   "cell_type": "code",
   "execution_count": 22,
   "id": "78ad5836-16cd-4bde-8a4e-41eed7b899d2",
   "metadata": {},
   "outputs": [
    {
     "data": {
      "text/plain": [
       "array([[247.71, 354.7 ],\n",
       "       [253.49, 346.99],\n",
       "       [276.63, 337.35],\n",
       "       [312.29, 333.49],\n",
       "       [364.34, 331.57],\n",
       "       [354.7 , 327.71],\n",
       "       [369.16, 325.78],\n",
       "       [376.87, 333.49],\n",
       "       [383.61, 330.6 ],\n",
       "       [379.76, 321.93],\n",
       "       [365.3 , 320.  ],\n",
       "       [356.63, 317.11],\n",
       "       [266.02, 331.57],\n",
       "       [260.24, 334.46],\n",
       "       [260.24, 337.35],\n",
       "       [242.89, 338.31],\n",
       "       [234.22, 338.31],\n",
       "       [234.22, 348.92],\n",
       "       [239.04, 353.73],\n",
       "       [248.67, 355.66],\n",
       "       [252.53, 353.73]])"
      ]
     },
     "execution_count": 22,
     "metadata": {},
     "output_type": "execute_result"
    }
   ],
   "source": [
    "a.reshape(len(a)//2, 2)"
   ]
  },
  {
   "cell_type": "code",
   "execution_count": null,
   "id": "348fb61c-edb3-4988-8d21-e444552ce036",
   "metadata": {},
   "outputs": [],
   "source": []
  }
 ],
 "metadata": {
  "kernelspec": {
   "display_name": "Python 3 (ipykernel)",
   "language": "python",
   "name": "python3"
  },
  "language_info": {
   "codemirror_mode": {
    "name": "ipython",
    "version": 3
   },
   "file_extension": ".py",
   "mimetype": "text/x-python",
   "name": "python",
   "nbconvert_exporter": "python",
   "pygments_lexer": "ipython3",
   "version": "3.9.20"
  }
 },
 "nbformat": 4,
 "nbformat_minor": 5
}
